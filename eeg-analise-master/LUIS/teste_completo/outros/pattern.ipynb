{
 "cells": [
  {
   "cell_type": "code",
   "execution_count": 1,
   "metadata": {},
   "outputs": [],
   "source": [
    "# imports de bibliotecas\n",
    "import numpy as np\n",
    "import mne\n",
    "from scipy.signal import welch\n",
    "import matplotlib.pyplot as plt"
   ]
  },
  {
   "cell_type": "code",
   "execution_count": 2,
   "metadata": {},
   "outputs": [
    {
     "data": {
      "text/html": [
       "<details open>\n",
       "    <summary><strong>General</strong></summary>\n",
       "    <table class=\"table table-hover table-striped table-sm table-responsive small\">\n",
       "        <tr>\n",
       "            <th>Measurement date</th>\n",
       "            \n",
       "            <td>Unknown</td>\n",
       "            \n",
       "        </tr>\n",
       "        <tr>\n",
       "            <th>Experimenter</th>\n",
       "            \n",
       "            <td>Unknown</td>\n",
       "            \n",
       "        </tr>\n",
       "        <tr>\n",
       "            <th>Participant</th>\n",
       "            \n",
       "            <td>Unknown</td>\n",
       "            \n",
       "        </tr>\n",
       "    </table>\n",
       "    </details>\n",
       "    <details open>\n",
       "        <summary><strong>Channels</strong></summary>\n",
       "        <table class=\"table table-hover table-striped table-sm table-responsive small\">\n",
       "            <tr>\n",
       "                <th>Digitized points</th>\n",
       "                \n",
       "                <td>11 points</td>\n",
       "                \n",
       "            </tr>\n",
       "            <tr>\n",
       "                <th>Good channels</th>\n",
       "                <td>8 EEG</td>\n",
       "            </tr>\n",
       "            <tr>\n",
       "                <th>Bad channels</th>\n",
       "                <td>None</td>\n",
       "            </tr>\n",
       "            <tr>\n",
       "                <th>EOG channels</th>\n",
       "                <td>Not available</td>\n",
       "            </tr>\n",
       "            <tr>\n",
       "                <th>ECG channels</th>\n",
       "                <td>Not available</td>\n",
       "            </tr>\n",
       "        </table>\n",
       "        </details>\n",
       "        <details open>\n",
       "            <summary><strong>Data</strong></summary>\n",
       "            <table class=\"table table-hover table-striped table-sm table-responsive small\">\n",
       "                \n",
       "                <tr>\n",
       "                    <th>Sampling frequency</th>\n",
       "                    <td>250.00 Hz</td>\n",
       "                </tr>\n",
       "                \n",
       "                \n",
       "                <tr>\n",
       "                    <th>Highpass</th>\n",
       "                    <td>0.00 Hz</td>\n",
       "                </tr>\n",
       "                \n",
       "                \n",
       "                <tr>\n",
       "                    <th>Lowpass</th>\n",
       "                    <td>125.00 Hz</td>\n",
       "                </tr>\n",
       "                \n",
       "                \n",
       "                \n",
       "                \n",
       "            </table>\n",
       "            </details>"
      ],
      "text/plain": [
       "<Info | 8 non-empty values\n",
       " bads: []\n",
       " ch_names: F3, Fz, F4, C3, Cz, C4, P3, P4\n",
       " chs: 8 EEG\n",
       " custom_ref_applied: False\n",
       " dig: 11 items (3 Cardinal, 8 EEG)\n",
       " highpass: 0.0 Hz\n",
       " lowpass: 125.0 Hz\n",
       " meas_date: unspecified\n",
       " nchan: 8\n",
       " projs: []\n",
       " sfreq: 250.0 Hz\n",
       ">"
      ]
     },
     "execution_count": 2,
     "metadata": {},
     "output_type": "execute_result"
    }
   ],
   "source": [
    "# definição do info (MNE)\n",
    "\n",
    "n_channels = 8\n",
    "ch_types = ['eeg'] * n_channels\n",
    "sfreq = 250\n",
    "ch_names = [\"F3\", \"Fz\", \"F4\", \"C3\", \"Cz\", \"C4\", \"P3\", \"P4\"]\n",
    "info = mne.create_info(ch_names=ch_names, sfreq=sfreq, ch_types=ch_types)\n",
    "info.set_montage(\"standard_1020\")"
   ]
  },
  {
   "cell_type": "code",
   "execution_count": 3,
   "metadata": {},
   "outputs": [
    {
     "name": "stdout",
     "output_type": "stream",
     "text": [
      "Creating RawArray with float64 data, n_channels=8, n_times=154980\n",
      "    Range : 0 ... 154979 =      0.000 ...   619.916 secs\n",
      "Ready.\n",
      "EEG channel type selected for re-referencing\n",
      "Applying average reference.\n",
      "Applying a custom ('EEG',) reference.\n"
     ]
    }
   ],
   "source": [
    "# carregamento e organização dos dados de: Guilherme Kipper\n",
    "\n",
    "tf = [\n",
    "  '../dataset/OpenBCI-RAW-2023-11-28_15-44-34.txt', # REMOVE:(15-16) (60-67) (111-114)\n",
    "  '../dataset/OpenBCI-RAW-2023-11-28_15-50-35.txt', # REMOVE:(14-16) (96-99)\n",
    "  '../dataset/OpenBCI-RAW-2023-11-28_15-53-44.txt'  # REMOVE:(00-37)\n",
    "  ]\n",
    "\n",
    "\n",
    "tf_ob = [np.loadtxt(txt, delimiter=',', skiprows=5, usecols=range(1, 9)) for txt in tf]\n",
    "\n",
    "\n",
    "\n",
    "\n",
    "data_tf = np.concatenate((\n",
    "  tf_ob[0][17*sfreq:59*sfreq,:], tf_ob[0][68*sfreq:110*sfreq,:], tf_ob[0][115*sfreq:,:], # 17-59, 68-110, 115-248(final) = 217\n",
    "  tf_ob[1][17*sfreq:95*sfreq,:], tf_ob[1][100*sfreq:,:], # 17-95, 100-143(final) = 121\n",
    "  tf_ob[2][38*sfreq:,:] #38-318(final) = 280\n",
    "))\n",
    "\n",
    "\n",
    "x_tf = mne.io.RawArray(data_tf.T, info)\n",
    "x_tf.set_eeg_reference(ref_channels='average') # CAR\n",
    "\n",
    "X = {\n",
    "    'tf':  x_tf,\n",
    "}"
   ]
  },
  {
   "cell_type": "code",
   "execution_count": 4,
   "metadata": {},
   "outputs": [
    {
     "name": "stdout",
     "output_type": "stream",
     "text": [
      "Filtering raw data in 1 contiguous segment\n",
      "Setting up band-stop filter from 59 - 61 Hz\n",
      "\n",
      "FIR filter parameters\n",
      "---------------------\n",
      "Designing a one-pass, zero-phase, non-causal bandstop filter:\n",
      "- Windowed time-domain design (firwin) method\n",
      "- Hamming window with 0.0194 passband ripple and 53 dB stopband attenuation\n",
      "- Lower passband edge: 59.35\n",
      "- Lower transition bandwidth: 0.50 Hz (-6 dB cutoff frequency: 59.10 Hz)\n",
      "- Upper passband edge: 60.65 Hz\n",
      "- Upper transition bandwidth: 0.50 Hz (-6 dB cutoff frequency: 60.90 Hz)\n",
      "- Filter length: 1651 samples (6.604 s)\n",
      "\n",
      "Filtering raw data in 1 contiguous segment\n",
      "Setting up band-pass filter from 4 - 1e+02 Hz\n",
      "\n",
      "FIR filter parameters\n",
      "---------------------\n",
      "Designing a one-pass, zero-phase, non-causal bandpass filter:\n",
      "- Windowed time-domain design (firwin) method\n",
      "- Hamming window with 0.0194 passband ripple and 53 dB stopband attenuation\n",
      "- Lower passband edge: 4.00\n",
      "- Lower transition bandwidth: 2.00 Hz (-6 dB cutoff frequency: 3.00 Hz)\n",
      "- Upper passband edge: 100.00 Hz\n",
      "- Upper transition bandwidth: 25.00 Hz (-6 dB cutoff frequency: 112.50 Hz)\n",
      "- Filter length: 413 samples (1.652 s)\n",
      "\n"
     ]
    }
   ],
   "source": [
    "# filtragem de todos os dados\n",
    "\n",
    "for key in X:\n",
    "    X[key].notch_filter(freqs=60)\n",
    "    X[key].filter(l_freq=4, h_freq=100)"
   ]
  },
  {
   "cell_type": "code",
   "execution_count": 5,
   "metadata": {},
   "outputs": [
    {
     "name": "stdout",
     "output_type": "stream",
     "text": [
      "Overwriting existing file.\n",
      "Writing /home/glob/faculdade/2024/reconhecimento-padroes/LUIS/teste_completo/../dataset/filtered/tf.fif\n",
      "Closing /home/glob/faculdade/2024/reconhecimento-padroes/LUIS/teste_completo/../dataset/filtered/tf.fif\n",
      "[done]\n"
     ]
    },
    {
     "name": "stderr",
     "output_type": "stream",
     "text": [
      "/tmp/ipykernel_16836/331378711.py:4: RuntimeWarning: This filename (/home/glob/faculdade/2024/reconhecimento-padroes/LUIS/teste_completo/../dataset/filtered/tf.fif) does not conform to MNE naming conventions. All raw files should end with raw.fif, raw_sss.fif, raw_tsss.fif, _meg.fif, _eeg.fif, _ieeg.fif, raw.fif.gz, raw_sss.fif.gz, raw_tsss.fif.gz, _meg.fif.gz, _eeg.fif.gz or _ieeg.fif.gz\n",
      "  X[key].save('../dataset/filtered/' + key + '.fif', overwrite=True)\n"
     ]
    }
   ],
   "source": [
    "# salvando os dados filtrados em arquivos .fif (MNE)\n",
    "\n",
    "for key in X:\n",
    "    X[key].save('../dataset/filtered/' + key + '.fif', overwrite=True)"
   ]
  },
  {
   "cell_type": "code",
   "execution_count": 6,
   "metadata": {},
   "outputs": [
    {
     "name": "stdout",
     "output_type": "stream",
     "text": [
      "<RawArray | 8 x 154980 (619.9 s), ~9.5 MB, data loaded>\n",
      "[40.97, 0.0, 4.19, 54.84]\n",
      "{'t': [40.97, 0.0, 4.19, 54.84]}\n",
      "[0, 0, 0, 10]\n",
      "[6, 0, 0, 4]\n",
      "[6, 0, 0, 4]\n",
      "[10, 0, 0, 0]\n",
      "[10, 0, 0, 0]\n",
      "[10, 0, 0, 0]\n",
      "[10, 0, 0, 0]\n",
      "[10, 0, 0, 0]\n",
      "[10, 0, 0, 0]\n",
      "[10, 0, 0, 0]\n",
      "[10, 0, 0, 0]\n",
      "[10, 0, 0, 0]\n",
      "[8, 0, 2, 0]\n",
      "[10, 0, 0, 0]\n",
      "[10, 0, 0, 0]\n",
      "[7, 0, 3, 0]\n",
      "[8, 0, 0, 2]\n",
      "[10, 0, 0, 0]\n",
      "[10, 0, 0, 0]\n",
      "[6, 0, 0, 4]\n",
      "[10, 0, 0, 0]\n",
      "[7, 0, 0, 3]\n",
      "[0, 0, 0, 10]\n",
      "[0, 0, 0, 10]\n",
      "[0, 0, 0, 10]\n",
      "[3, 0, 1, 6]\n",
      "[2, 0, 1, 7]\n",
      "[0, 0, 0, 10]\n",
      "[0, 0, 0, 10]\n",
      "[4, 0, 0, 6]\n",
      "[0, 0, 0, 10]\n",
      "[0, 0, 0, 10]\n",
      "[0, 0, 0, 10]\n",
      "[5, 0, 0, 5]\n",
      "[6, 0, 0, 4]\n",
      "[0, 0, 0, 10]\n",
      "[0, 0, 1, 9]\n",
      "[0, 0, 4, 6]\n",
      "[4, 0, 0, 6]\n",
      "[9, 0, 0, 1]\n",
      "[2, 0, 8, 0]\n",
      "[6, 0, 2, 2]\n",
      "[0, 0, 0, 10]\n",
      "[0, 0, 0, 10]\n",
      "[1, 0, 0, 9]\n",
      "[5, 0, 3, 2]\n",
      "[7, 0, 1, 2]\n",
      "[2, 0, 0, 8]\n",
      "[0, 0, 0, 10]\n",
      "[0, 0, 0, 10]\n",
      "[5, 0, 0, 5]\n",
      "[0, 0, 0, 10]\n",
      "[0, 0, 0, 10]\n",
      "[0, 0, 0, 10]\n",
      "[0, 0, 0, 10]\n",
      "[0, 0, 0, 10]\n",
      "[0, 0, 0, 10]\n",
      "[0, 0, 0, 10]\n",
      "[0, 0, 0, 10]\n",
      "[0, 0, 0, 10]\n",
      "[3, 0, 0, 7]\n",
      "[2, 0, 0, 8]\n"
     ]
    }
   ],
   "source": [
    "\n",
    "# abrindo os dados filtrados salvos em arquivos .fif (MNE)\n",
    "\n",
    "\n",
    "sr = 250          # taxa de amostragem\n",
    "jump = 5          # 5s de buffer\n",
    "size = sr * jump  # quantidade de pontos avalidados\n",
    "\n",
    "\n",
    "# Definir os limites das bandas de frequência (em Hz)\n",
    "theta_band = (4, 8)       # Theta: 4 - 8 Hz\n",
    "alpha_band = (8, 13)      # Alpha: 8 - 13 Hz\n",
    "beta_band = (13, 30)      # Beta: 13 - 30 Hz\n",
    "gamma_band = (30, 100)    # Gamma: 30 - 100 Hz\n",
    "\n",
    "total_pc = {}\n",
    "data_names = ('tf')\n",
    "\n",
    "#for calculate the intervals\n",
    "parts_total= [[0,0,0,0]]\n",
    "interval=10\n",
    "\n",
    "nperseg = 128  # Número de pontos por segmento\n",
    "noverlap = nperseg // 2  # Quantidade de sobreposição entre segmentos\n",
    "\n",
    "for k, data in enumerate(X.values()):\n",
    "    results = [0, 0, 0, 0]\n",
    "    for i in range(0, len(data)-1, sr):\n",
    "        cut = data.get_data(start=i, stop=i+size) \n",
    "        freqs, psd = welch(cut, fs=sr, nperseg=nperseg, noverlap=noverlap)\n",
    "        X = np.average(psd, axis=0)\n",
    "\n",
    "        # Encontrar os índices correspondentes às frequências de interesse\n",
    "        theta_idxs = np.where((freqs >= theta_band[0]) & (freqs <= theta_band[1]))[0]\n",
    "        alpha_idxs = np.where((freqs >= alpha_band[0]) & (freqs <= alpha_band[1]))[0]\n",
    "        beta_idxs = np.where((freqs >= beta_band[0]) & (freqs <= beta_band[1]))[0]\n",
    "        gamma_idxs = np.where((freqs >= gamma_band[0]) & (freqs <= gamma_band[1]))[0]\n",
    "\n",
    "        # Calcular a potência em cada banda de frequência\n",
    "        bands = [np.sum(X[theta_idxs]), np.sum(X[alpha_idxs]), np.sum(X[beta_idxs]), np.sum(X[gamma_idxs])]\n",
    "        results[np.argmax(bands)] += 1\n",
    "\n",
    "\n",
    "        # Calcula a onda mais alta em um intervalo de 10s\n",
    "        current_interval = (i//250) // interval\n",
    "        if len(parts_total) <= current_interval:\n",
    "            parts_total.append([0,0,0,0])\n",
    "        parts_total[current_interval][np.argmax(bands)] += 1\n",
    "        \n",
    "    total = sum(results)\n",
    "    percentages = [round((count/total) * 100, 2) for count in results]\n",
    "    print(data.__str__())\n",
    "    print(percentages)\n",
    "    total_pc[data_names[k]] = percentages\n",
    "\n",
    "print(total_pc)\n",
    "for parts in parts_total:\n",
    "    print(parts)"
   ]
  },
  {
   "cell_type": "code",
   "execution_count": 7,
   "metadata": {},
   "outputs": [],
   "source": [
    "from matplotlib import rcParams\n",
    "\n",
    "rcParams['figure.figsize'] = [6., 4.]\n",
    "\n",
    "def plot_bar(x):\n",
    "    colors = ('orange', 'green', 'blue', 'purple')\n",
    "    bars = plt.bar(('theta', 'alpha', 'beta', 'gamma'), x, color=colors)\n",
    "    for bar in bars:\n",
    "        yval = bar.get_height()\n",
    "        plt.text(bar.get_x() + bar.get_width()/2, yval, round(yval, 2), ha='center', va='bottom')\n",
    "    plt.title('Porcentagem da potência em cada banda de frequência')\n",
    "    plt.xlabel('Banda de Frequência')\n",
    "    plt.ylabel('Porcentagem durante a atividade')\n",
    "\n",
    "    # Exibir o gráfico\n",
    "    plt.show()"
   ]
  },
  {
   "cell_type": "code",
   "execution_count": 8,
   "metadata": {},
   "outputs": [
    {
     "name": "stdout",
     "output_type": "stream",
     "text": [
      "TESTE FINAL\n"
     ]
    },
    {
     "data": {
      "image/png": "[encoded data removed]",
      "text/plain": [
       "<Figure size 600x400 with 1 Axes>"
      ]
     },
     "metadata": {},
     "output_type": "display_data"
    }
   ],
   "source": [
    "print('TESTE FINAL')\n",
    "plot_bar(total_pc['t'])\n",
    "# print('Glucagon Ativa - Teste')\n",
    "# plot_bar(total_pc['ga_test'])"
   ]
  }
 ],
 "metadata": {
  "kernelspec": {
   "display_name": "Python 3",
   "language": "python",
   "name": "python3"
  },
  "language_info": {
   "codemirror_mode": {
    "name": "ipython",
    "version": 3
   },
   "file_extension": ".py",
   "mimetype": "text/x-python",
   "name": "python",
   "nbconvert_exporter": "python",
   "pygments_lexer": "ipython3",
   "version": "3.10.12"
  }
 },
 "nbformat": 4,
 "nbformat_minor": 2
}
